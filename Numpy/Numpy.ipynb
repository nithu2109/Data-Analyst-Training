{
  "nbformat": 4,
  "nbformat_minor": 0,
  "metadata": {
    "colab": {
      "name": "Numpy",
      "provenance": [],
      "collapsed_sections": [],
      "authorship_tag": "ABX9TyNGkLEiYAdRij5HUKZsmE5t",
      "include_colab_link": true
    },
    "kernelspec": {
      "name": "python3",
      "display_name": "Python 3"
    },
    "language_info": {
      "name": "python"
    }
  },
  "cells": [
    {
      "cell_type": "markdown",
      "metadata": {
        "id": "view-in-github",
        "colab_type": "text"
      },
      "source": [
        "<a href=\"https://colab.research.google.com/github/nithu2109/Data-Analyst-Training/blob/main/Numpy/Numpy.ipynb\" target=\"_parent\"><img src=\"https://colab.research.google.com/assets/colab-badge.svg\" alt=\"Open In Colab\"/></a>"
      ]
    },
    {
      "cell_type": "markdown",
      "metadata": {
        "id": "lj_TCVBh6Aa5"
      },
      "source": [
        "## Libraries in Python\n",
        "*   Libraries are nothing but a collection of functions and tools to help us with our important and trivial tasks\n",
        "*   When working with Libraries,we don't really need to know how it works,only the input annd output of the library functions are needed\n",
        "\n",
        "\n",
        "\n",
        "\n",
        "\n",
        "\n",
        "\n",
        "\n",
        "\n"
      ]
    },
    {
      "cell_type": "code",
      "metadata": {
        "id": "xnTgFrXA5ek_"
      },
      "source": [
        "import numpy as np\n"
      ],
      "execution_count": null,
      "outputs": []
    },
    {
      "cell_type": "code",
      "metadata": {
        "id": "1f1BW22rAj1_"
      },
      "source": [
        "#representing a 2d matrix\n",
        "matrix=[[1,2,3],\n",
        "        [4,5,6],\n",
        "        [5,8,9]]"
      ],
      "execution_count": null,
      "outputs": []
    },
    {
      "cell_type": "markdown",
      "metadata": {
        "id": "WJtBs83wHc-H"
      },
      "source": [
        "#Representing a 3d matrix\n",
        " \n",
        " \n",
        " \n",
        " matrix=\n",
        " \n",
        "       [ [[1,2,3],\n",
        "         [4,5,6],\n",
        "         [5,8,9]],\n",
        "         [[1,2,3],\n",
        "         [4,5,6],\n",
        "         [5,8,9]],\n",
        "\n",
        "         [[1,2,3],\n",
        "         [4,5,6],\n",
        "         [5,8,9]] ]"
      ]
    },
    {
      "cell_type": "code",
      "metadata": {
        "id": "jzPokbnXHTb-"
      },
      "source": [
        "matrix=[[[1,2,3],\n",
        "         [4,5,6],\n",
        "         [5,8,9]],\n",
        "        [[1,2,3],\n",
        "         [4,5,6],\n",
        "         [5,8,9]],\n",
        "         [[1,2,3],\n",
        "         [4,5,6],\n",
        "         [5,8,9]]]\n"
      ],
      "execution_count": null,
      "outputs": []
    },
    {
      "cell_type": "code",
      "metadata": {
        "id": "pgg2yRTeJ6D3"
      },
      "source": [
        "matrix=np.random.randn(3,3)#rows x columns"
      ],
      "execution_count": null,
      "outputs": []
    },
    {
      "cell_type": "code",
      "metadata": {
        "colab": {
          "base_uri": "https://localhost:8080/"
        },
        "id": "kmF3w01MKKV7",
        "outputId": "eb7fb49f-42cf-442f-b9f6-011efa17d536"
      },
      "source": [
        "matrix"
      ],
      "execution_count": null,
      "outputs": [
        {
          "output_type": "execute_result",
          "data": {
            "text/plain": [
              "array([[ 1.21133528, -0.35532682, -1.32944977],\n",
              "       [ 0.39859759, -0.63618813, -2.07037187],\n",
              "       [ 0.14792517, -0.79181212,  0.0913109 ]])"
            ]
          },
          "metadata": {},
          "execution_count": 11
        }
      ]
    },
    {
      "cell_type": "code",
      "metadata": {
        "colab": {
          "base_uri": "https://localhost:8080/"
        },
        "id": "_apNTJ1KKcQ5",
        "outputId": "61acd160-b911-43db-cb33-a3af5ae84f0e"
      },
      "source": [
        "matrix2=np.random.randn(7,3)#rows x columns\n",
        "matrix2"
      ],
      "execution_count": null,
      "outputs": [
        {
          "output_type": "execute_result",
          "data": {
            "text/plain": [
              "array([[ 2.12268217, -0.65607585, -0.18919417],\n",
              "       [-0.50014267,  0.013973  , -0.49795347],\n",
              "       [ 0.81263343,  0.22741941,  1.43015244],\n",
              "       [ 0.80219445,  0.83778694, -0.24634268],\n",
              "       [ 0.3835235 ,  0.24587968, -1.12469288],\n",
              "       [-1.14374225,  0.06857418,  0.85053914],\n",
              "       [ 0.27584636, -0.30840118, -0.58401295]])"
            ]
          },
          "metadata": {},
          "execution_count": 13
        }
      ]
    },
    {
      "cell_type": "code",
      "metadata": {
        "colab": {
          "base_uri": "https://localhost:8080/"
        },
        "id": "-ywASkQBLmPL",
        "outputId": "25e4a1a2-1eed-4100-9872-5206443c9751"
      },
      "source": [
        "mat1=np.random.random(10)\n",
        "mat1"
      ],
      "execution_count": null,
      "outputs": [
        {
          "output_type": "execute_result",
          "data": {
            "text/plain": [
              "array([0.85450223, 0.77694922, 0.26900701, 0.70941606, 0.65438122,\n",
              "       0.48357013, 0.19585379, 0.6935385 , 0.23296773, 0.39932827])"
            ]
          },
          "metadata": {},
          "execution_count": 14
        }
      ]
    },
    {
      "cell_type": "code",
      "metadata": {
        "colab": {
          "base_uri": "https://localhost:8080/"
        },
        "id": "Pfkqe49TLyDw",
        "outputId": "3e4c7cd0-65a7-43e6-974e-11082561da09"
      },
      "source": [
        "mat2=np.random.randn(4,3)\n",
        "mat2"
      ],
      "execution_count": null,
      "outputs": [
        {
          "output_type": "execute_result",
          "data": {
            "text/plain": [
              "array([[-0.26548265,  1.0324233 ,  0.04986925],\n",
              "       [-0.76807849,  1.61316316, -0.94516092],\n",
              "       [-1.0037197 ,  2.0559559 , -0.93266648],\n",
              "       [ 0.41306682, -0.9533065 , -0.19259334]])"
            ]
          },
          "metadata": {},
          "execution_count": 15
        }
      ]
    },
    {
      "cell_type": "code",
      "metadata": {
        "id": "io48FBNuIzDU"
      },
      "source": [
        "from numpy.random import randn\n"
      ],
      "execution_count": null,
      "outputs": []
    },
    {
      "cell_type": "code",
      "metadata": {
        "colab": {
          "base_uri": "https://localhost:8080/"
        },
        "id": "0uNX4D3yJDFd",
        "outputId": "22d77fd3-5099-4b86-f811-dc244bc3905e"
      },
      "source": [
        "randn(4,5)"
      ],
      "execution_count": null,
      "outputs": [
        {
          "output_type": "execute_result",
          "data": {
            "text/plain": [
              "array([[-1.89455692,  0.46663777,  0.55767257, -0.36573094,  0.10477656],\n",
              "       [-0.08515156, -0.64111011,  2.07308918,  2.48308128,  2.43257669],\n",
              "       [ 1.38636664,  0.54483053, -0.82068937, -0.80797697, -0.8420869 ],\n",
              "       [-0.48711797,  1.09911829, -1.14990798, -0.51632385, -0.82022584]])"
            ]
          },
          "metadata": {},
          "execution_count": 5
        }
      ]
    },
    {
      "cell_type": "code",
      "metadata": {
        "colab": {
          "base_uri": "https://localhost:8080/"
        },
        "id": "Wm-uQ_T2KDXb",
        "outputId": "53b5b287-175f-42e1-bda4-0ae330590080"
      },
      "source": [
        "mat2\n"
      ],
      "execution_count": null,
      "outputs": [
        {
          "output_type": "execute_result",
          "data": {
            "text/plain": [
              "array([[-0.26548265,  1.0324233 ,  0.04986925],\n",
              "       [-0.76807849,  1.61316316, -0.94516092],\n",
              "       [-1.0037197 ,  2.0559559 , -0.93266648],\n",
              "       [ 0.41306682, -0.9533065 , -0.19259334]])"
            ]
          },
          "metadata": {},
          "execution_count": 16
        }
      ]
    },
    {
      "cell_type": "code",
      "metadata": {
        "colab": {
          "base_uri": "https://localhost:8080/"
        },
        "id": "OQSdbUVuKUuM",
        "outputId": "9f35e82f-83b9-4fea-a1b3-85ca3db3b73a"
      },
      "source": [
        "mat2.shape"
      ],
      "execution_count": null,
      "outputs": [
        {
          "output_type": "execute_result",
          "data": {
            "text/plain": [
              "(4, 3)"
            ]
          },
          "metadata": {},
          "execution_count": 17
        }
      ]
    },
    {
      "cell_type": "code",
      "metadata": {
        "colab": {
          "base_uri": "https://localhost:8080/"
        },
        "id": "EGfAH9JgK6_y",
        "outputId": "d27c7859-a23d-4464-d941-96731923f202"
      },
      "source": [
        "mat2.dtype"
      ],
      "execution_count": null,
      "outputs": [
        {
          "output_type": "execute_result",
          "data": {
            "text/plain": [
              "dtype('float64')"
            ]
          },
          "metadata": {},
          "execution_count": 18
        }
      ]
    },
    {
      "cell_type": "code",
      "metadata": {
        "id": "zeRVIuzIK93J"
      },
      "source": [
        "mat3=np.random.rand(8,4)"
      ],
      "execution_count": null,
      "outputs": []
    },
    {
      "cell_type": "code",
      "metadata": {
        "colab": {
          "base_uri": "https://localhost:8080/"
        },
        "id": "L8D1AlT4Lyyr",
        "outputId": "9f939026-d44f-4e74-d678-073811bdcf1a"
      },
      "source": [
        "mat3\n"
      ],
      "execution_count": null,
      "outputs": [
        {
          "output_type": "execute_result",
          "data": {
            "text/plain": [
              "array([[0.38127149, 0.32241809, 0.21127043, 0.5327361 ],\n",
              "       [0.33601616, 0.81330864, 0.14829084, 0.78492975],\n",
              "       [0.22612524, 0.51606763, 0.34718196, 0.4206044 ],\n",
              "       [0.95650446, 0.19937993, 0.66352336, 0.94891275],\n",
              "       [0.31011569, 0.11068657, 0.95966615, 0.46549023],\n",
              "       [0.84533969, 0.77415652, 0.05267253, 0.55136292],\n",
              "       [0.72771923, 0.38117488, 0.34535482, 0.6683767 ],\n",
              "       [0.38120603, 0.86360085, 0.43770616, 0.53335143]])"
            ]
          },
          "metadata": {},
          "execution_count": 23
        }
      ]
    },
    {
      "cell_type": "code",
      "metadata": {
        "colab": {
          "base_uri": "https://localhost:8080/"
        },
        "id": "v4ErR7NqMps9",
        "outputId": "ea5957c6-0f82-49dd-ef98-8f37a499917a"
      },
      "source": [
        "mat3[3][2]"
      ],
      "execution_count": null,
      "outputs": [
        {
          "output_type": "execute_result",
          "data": {
            "text/plain": [
              "0.6635233585498292"
            ]
          },
          "metadata": {},
          "execution_count": 24
        }
      ]
    },
    {
      "cell_type": "code",
      "metadata": {
        "id": "YF40bxLGMvJT"
      },
      "source": [
        "matrix=np.array([[1,2,3],\n",
        "                [4,5,6],\n",
        "                [7,8,9]],dtype=float)"
      ],
      "execution_count": null,
      "outputs": []
    },
    {
      "cell_type": "code",
      "metadata": {
        "colab": {
          "base_uri": "https://localhost:8080/"
        },
        "id": "KGDQuahoNAG2",
        "outputId": "59a6195a-3e75-4a44-82ae-5ea7edbf26fa"
      },
      "source": [
        "matrix.shape"
      ],
      "execution_count": null,
      "outputs": [
        {
          "output_type": "execute_result",
          "data": {
            "text/plain": [
              "(3, 3)"
            ]
          },
          "metadata": {},
          "execution_count": 27
        }
      ]
    },
    {
      "cell_type": "code",
      "metadata": {
        "colab": {
          "base_uri": "https://localhost:8080/"
        },
        "id": "FCjkyPbONMGM",
        "outputId": "dd5c22ef-24f2-4233-fab9-4f42bcb8010c"
      },
      "source": [
        "matrix.dtype"
      ],
      "execution_count": null,
      "outputs": [
        {
          "output_type": "execute_result",
          "data": {
            "text/plain": [
              "dtype('int64')"
            ]
          },
          "metadata": {},
          "execution_count": 28
        }
      ]
    },
    {
      "cell_type": "code",
      "metadata": {
        "colab": {
          "base_uri": "https://localhost:8080/"
        },
        "id": "5yW5UjQONOji",
        "outputId": "e72b64c9-fe9d-40af-ad63-c911138ac309"
      },
      "source": [
        "matrix"
      ],
      "execution_count": null,
      "outputs": [
        {
          "output_type": "execute_result",
          "data": {
            "text/plain": [
              "array([[1., 2., 3.],\n",
              "       [4., 5., 6.],\n",
              "       [7., 8., 9.]])"
            ]
          },
          "metadata": {},
          "execution_count": 31
        }
      ]
    },
    {
      "cell_type": "code",
      "metadata": {
        "id": "2SP6rywWck91",
        "colab": {
          "base_uri": "https://localhost:8080/"
        },
        "outputId": "e76c24df-0643-407b-a9ea-c76e7e1446e4"
      },
      "source": [
        "type(matrix)"
      ],
      "execution_count": null,
      "outputs": [
        {
          "output_type": "execute_result",
          "data": {
            "text/plain": [
              "numpy.ndarray"
            ]
          },
          "metadata": {},
          "execution_count": 32
        }
      ]
    },
    {
      "cell_type": "code",
      "metadata": {
        "colab": {
          "base_uri": "https://localhost:8080/"
        },
        "id": "wB2oatT4B4c5",
        "outputId": "e2058e70-0904-4bbb-cc7a-ffe3316aa73a"
      },
      "source": [
        "#practise\n",
        "mylist=[[1,2,3],[4,3,2],[2,8,9]]\n",
        "matrix=np.array(mylist)\n",
        "print(matrix)\n",
        "print(type(matrix))\n",
        "print(matrix.dtype)\n",
        "print(\"Shape Of Matrix :\",matrix.shape)"
      ],
      "execution_count": null,
      "outputs": [
        {
          "output_type": "stream",
          "name": "stdout",
          "text": [
            "[[1 2 3]\n",
            " [4 3 2]\n",
            " [2 8 9]]\n",
            "<class 'numpy.ndarray'>\n",
            "int64\n",
            "Shape Of Matrix : (3, 3)\n"
          ]
        }
      ]
    },
    {
      "cell_type": "markdown",
      "metadata": {
        "id": "GNwosDlWDpDw"
      },
      "source": [
        "##Special Type Of Matrices\n",
        "**Unit Matrix**"
      ]
    },
    {
      "cell_type": "code",
      "metadata": {
        "colab": {
          "base_uri": "https://localhost:8080/"
        },
        "id": "VhiojvdbDwXn",
        "outputId": "db3fd635-7fff-46c7-9186-a83d8828fe93"
      },
      "source": [
        "np.ones((3,3))#default data type is float"
      ],
      "execution_count": null,
      "outputs": [
        {
          "output_type": "execute_result",
          "data": {
            "text/plain": [
              "array([[1., 1., 1.],\n",
              "       [1., 1., 1.],\n",
              "       [1., 1., 1.]])"
            ]
          },
          "metadata": {},
          "execution_count": 11
        }
      ]
    },
    {
      "cell_type": "code",
      "metadata": {
        "colab": {
          "base_uri": "https://localhost:8080/"
        },
        "id": "k1T-LDMKD6Ev",
        "outputId": "c6a69865-fb98-45a6-92d3-fc7534544929"
      },
      "source": [
        "np.ones((3,4),dtype=int)"
      ],
      "execution_count": null,
      "outputs": [
        {
          "output_type": "execute_result",
          "data": {
            "text/plain": [
              "array([[1, 1, 1, 1],\n",
              "       [1, 1, 1, 1],\n",
              "       [1, 1, 1, 1]])"
            ]
          },
          "metadata": {},
          "execution_count": 12
        }
      ]
    },
    {
      "cell_type": "markdown",
      "metadata": {
        "id": "qi78WtCtEiIC"
      },
      "source": [
        "**Zero Matrix**"
      ]
    },
    {
      "cell_type": "code",
      "metadata": {
        "colab": {
          "base_uri": "https://localhost:8080/"
        },
        "id": "UUrebeEeD93o",
        "outputId": "00604c80-faea-414d-ae50-e9d206f21df7"
      },
      "source": [
        "np.zeros((3,5))##default data type is float"
      ],
      "execution_count": null,
      "outputs": [
        {
          "output_type": "execute_result",
          "data": {
            "text/plain": [
              "array([[0., 0., 0., 0., 0.],\n",
              "       [0., 0., 0., 0., 0.],\n",
              "       [0., 0., 0., 0., 0.]])"
            ]
          },
          "metadata": {},
          "execution_count": 14
        }
      ]
    },
    {
      "cell_type": "code",
      "metadata": {
        "colab": {
          "base_uri": "https://localhost:8080/"
        },
        "id": "zwdwaBagEb0n",
        "outputId": "53909fda-6e12-4982-a2df-655344f48620"
      },
      "source": [
        "np.zeros((3,5),dtype=\"int\")"
      ],
      "execution_count": null,
      "outputs": [
        {
          "output_type": "execute_result",
          "data": {
            "text/plain": [
              "array([[0, 0, 0, 0, 0],\n",
              "       [0, 0, 0, 0, 0],\n",
              "       [0, 0, 0, 0, 0]])"
            ]
          },
          "metadata": {},
          "execution_count": 16
        }
      ]
    },
    {
      "cell_type": "markdown",
      "metadata": {
        "id": "HEY5u_q4EmSN"
      },
      "source": [
        "**Identity Matrix**"
      ]
    },
    {
      "cell_type": "code",
      "metadata": {
        "colab": {
          "base_uri": "https://localhost:8080/"
        },
        "id": "-qcE5ofTFXUh",
        "outputId": "8c41221f-8a4f-4297-e118-0cbd30bf0d20"
      },
      "source": [
        "np.eye(4)##default data type is float"
      ],
      "execution_count": null,
      "outputs": [
        {
          "output_type": "execute_result",
          "data": {
            "text/plain": [
              "array([[1., 0., 0., 0.],\n",
              "       [0., 1., 0., 0.],\n",
              "       [0., 0., 1., 0.],\n",
              "       [0., 0., 0., 1.]])"
            ]
          },
          "metadata": {},
          "execution_count": 17
        }
      ]
    },
    {
      "cell_type": "code",
      "metadata": {
        "colab": {
          "base_uri": "https://localhost:8080/"
        },
        "id": "6jUySlnEFa77",
        "outputId": "981e8ac8-d99c-47bd-c6a5-d3992985cfef"
      },
      "source": [
        "np.eye(5,dtype=int)"
      ],
      "execution_count": null,
      "outputs": [
        {
          "output_type": "execute_result",
          "data": {
            "text/plain": [
              "array([[1, 0, 0, 0, 0],\n",
              "       [0, 1, 0, 0, 0],\n",
              "       [0, 0, 1, 0, 0],\n",
              "       [0, 0, 0, 1, 0],\n",
              "       [0, 0, 0, 0, 1]])"
            ]
          },
          "metadata": {},
          "execution_count": 18
        }
      ]
    },
    {
      "cell_type": "markdown",
      "metadata": {
        "id": "n7UDKqu_GJpY"
      },
      "source": [
        "**Diag Function**"
      ]
    },
    {
      "cell_type": "code",
      "metadata": {
        "colab": {
          "base_uri": "https://localhost:8080/"
        },
        "id": "3DlAf0mfGMQt",
        "outputId": "200175e2-4856-4662-ffed-99c076b8122d"
      },
      "source": [
        "#keeping a list as principle diagonal in matrix \n",
        "x=[1,2,3,4,5]\n",
        "np.diag(x)"
      ],
      "execution_count": null,
      "outputs": [
        {
          "output_type": "execute_result",
          "data": {
            "text/plain": [
              "array([[1, 0, 0, 0, 0],\n",
              "       [0, 2, 0, 0, 0],\n",
              "       [0, 0, 3, 0, 0],\n",
              "       [0, 0, 0, 4, 0],\n",
              "       [0, 0, 0, 0, 5]])"
            ]
          },
          "metadata": {},
          "execution_count": 20
        }
      ]
    },
    {
      "cell_type": "code",
      "metadata": {
        "colab": {
          "base_uri": "https://localhost:8080/"
        },
        "id": "r3umIbevGggu",
        "outputId": "dea7a001-8a46-485f-a715-5f341884145b"
      },
      "source": [
        "#keeping a list one level below principle diagonal in matrix \n",
        "np.diag((x),k=-1)\n"
      ],
      "execution_count": null,
      "outputs": [
        {
          "output_type": "execute_result",
          "data": {
            "text/plain": [
              "array([[0, 0, 0, 0, 0, 0],\n",
              "       [1, 0, 0, 0, 0, 0],\n",
              "       [0, 2, 0, 0, 0, 0],\n",
              "       [0, 0, 3, 0, 0, 0],\n",
              "       [0, 0, 0, 4, 0, 0],\n",
              "       [0, 0, 0, 0, 5, 0]])"
            ]
          },
          "metadata": {},
          "execution_count": 21
        }
      ]
    },
    {
      "cell_type": "code",
      "metadata": {
        "colab": {
          "base_uri": "https://localhost:8080/"
        },
        "id": "-aDsvp1FNXe4",
        "outputId": "6ff3e1ef-98ce-485a-e84e-bcd73f62bc9e"
      },
      "source": [
        "#keeping a list three levels principle diagonal in matrix \n",
        "np.diag((x),k=3)"
      ],
      "execution_count": null,
      "outputs": [
        {
          "output_type": "execute_result",
          "data": {
            "text/plain": [
              "array([[0, 0, 0, 1, 0, 0, 0, 0],\n",
              "       [0, 0, 0, 0, 2, 0, 0, 0],\n",
              "       [0, 0, 0, 0, 0, 3, 0, 0],\n",
              "       [0, 0, 0, 0, 0, 0, 4, 0],\n",
              "       [0, 0, 0, 0, 0, 0, 0, 5],\n",
              "       [0, 0, 0, 0, 0, 0, 0, 0],\n",
              "       [0, 0, 0, 0, 0, 0, 0, 0],\n",
              "       [0, 0, 0, 0, 0, 0, 0, 0]])"
            ]
          },
          "metadata": {},
          "execution_count": 23
        }
      ]
    },
    {
      "cell_type": "markdown",
      "metadata": {
        "id": "NvLiSBM7Y9oA"
      },
      "source": [
        "**arange(start,stop,step)**"
      ]
    },
    {
      "cell_type": "code",
      "metadata": {
        "colab": {
          "base_uri": "https://localhost:8080/"
        },
        "id": "6ISMvp39NwPZ",
        "outputId": "e1bc56b0-c4dd-4dce-f362-5f221d21d95a"
      },
      "source": [
        "np.arange(1,10)"
      ],
      "execution_count": null,
      "outputs": [
        {
          "output_type": "execute_result",
          "data": {
            "text/plain": [
              "array([1, 2, 3, 4, 5, 6, 7, 8, 9])"
            ]
          },
          "metadata": {},
          "execution_count": 24
        }
      ]
    },
    {
      "cell_type": "code",
      "metadata": {
        "colab": {
          "base_uri": "https://localhost:8080/"
        },
        "id": "A6BEj2cEZEQ9",
        "outputId": "9aff7e7c-dfa9-49b7-ab5c-b1ae71b4d01d"
      },
      "source": [
        "#way 1\n",
        "np.arange(2,40,2)"
      ],
      "execution_count": null,
      "outputs": [
        {
          "output_type": "execute_result",
          "data": {
            "text/plain": [
              "array([ 2,  4,  6,  8, 10, 12, 14, 16, 18, 20, 22, 24, 26, 28, 30, 32, 34,\n",
              "       36, 38])"
            ]
          },
          "metadata": {},
          "execution_count": 25
        }
      ]
    },
    {
      "cell_type": "code",
      "metadata": {
        "colab": {
          "base_uri": "https://localhost:8080/"
        },
        "id": "VERiW3mTZUex",
        "outputId": "769d198c-2edf-4615-d635-1afe54939f88"
      },
      "source": [
        "#way 2\n",
        "np.array([x for x in range(10,40,2)])"
      ],
      "execution_count": null,
      "outputs": [
        {
          "output_type": "execute_result",
          "data": {
            "text/plain": [
              "array([10, 12, 14, 16, 18, 20, 22, 24, 26, 28, 30, 32, 34, 36, 38])"
            ]
          },
          "metadata": {},
          "execution_count": 26
        }
      ]
    },
    {
      "cell_type": "markdown",
      "metadata": {
        "id": "2kJMyQmBaTAu"
      },
      "source": [
        "**linspace(start,stop,num)**<br>\n",
        "num denotes how many numbers required"
      ]
    },
    {
      "cell_type": "code",
      "metadata": {
        "colab": {
          "base_uri": "https://localhost:8080/"
        },
        "id": "iwJxJJ1YaNta",
        "outputId": "47bc4e65-8359-4a97-fc52-9c1e9f572a74"
      },
      "source": [
        "np.linspace(10,40,7)"
      ],
      "execution_count": null,
      "outputs": [
        {
          "output_type": "execute_result",
          "data": {
            "text/plain": [
              "array([10., 15., 20., 25., 30., 35., 40.])"
            ]
          },
          "metadata": {},
          "execution_count": 7
        }
      ]
    },
    {
      "cell_type": "code",
      "metadata": {
        "colab": {
          "base_uri": "https://localhost:8080/"
        },
        "id": "dPXbxPSRbFCU",
        "outputId": "be33623a-5dc4-4fe4-e4df-660c9f670427"
      },
      "source": [
        "np.linspace(10,40,15,endpoint=False)"
      ],
      "execution_count": null,
      "outputs": [
        {
          "output_type": "execute_result",
          "data": {
            "text/plain": [
              "array([10., 12., 14., 16., 18., 20., 22., 24., 26., 28., 30., 32., 34.,\n",
              "       36., 38.])"
            ]
          },
          "metadata": {},
          "execution_count": 28
        }
      ]
    },
    {
      "cell_type": "code",
      "metadata": {
        "colab": {
          "base_uri": "https://localhost:8080/"
        },
        "id": "RhM0QTXRb07n",
        "outputId": "f4a8967e-625c-4c61-fcad-28267d8c3d0a"
      },
      "source": [
        "np.linspace(10,40,15,endpoint=False,dtype=int)"
      ],
      "execution_count": null,
      "outputs": [
        {
          "output_type": "execute_result",
          "data": {
            "text/plain": [
              "array([10, 12, 14, 16, 18, 20, 22, 24, 26, 28, 30, 32, 34, 36, 38])"
            ]
          },
          "metadata": {},
          "execution_count": 30
        }
      ]
    },
    {
      "cell_type": "code",
      "metadata": {
        "colab": {
          "base_uri": "https://localhost:8080/"
        },
        "id": "eR8ctDYEcf0C",
        "outputId": "135d6172-d44d-4776-a585-4931359034ce"
      },
      "source": [
        "#problem\n",
        "myarray=np.arange(22,42,2)\n",
        "np.diag(myarray,k=-2)"
      ],
      "execution_count": null,
      "outputs": [
        {
          "output_type": "execute_result",
          "data": {
            "text/plain": [
              "array([[ 0,  0,  0,  0,  0,  0,  0,  0,  0,  0,  0,  0],\n",
              "       [ 0,  0,  0,  0,  0,  0,  0,  0,  0,  0,  0,  0],\n",
              "       [22,  0,  0,  0,  0,  0,  0,  0,  0,  0,  0,  0],\n",
              "       [ 0, 24,  0,  0,  0,  0,  0,  0,  0,  0,  0,  0],\n",
              "       [ 0,  0, 26,  0,  0,  0,  0,  0,  0,  0,  0,  0],\n",
              "       [ 0,  0,  0, 28,  0,  0,  0,  0,  0,  0,  0,  0],\n",
              "       [ 0,  0,  0,  0, 30,  0,  0,  0,  0,  0,  0,  0],\n",
              "       [ 0,  0,  0,  0,  0, 32,  0,  0,  0,  0,  0,  0],\n",
              "       [ 0,  0,  0,  0,  0,  0, 34,  0,  0,  0,  0,  0],\n",
              "       [ 0,  0,  0,  0,  0,  0,  0, 36,  0,  0,  0,  0],\n",
              "       [ 0,  0,  0,  0,  0,  0,  0,  0, 38,  0,  0,  0],\n",
              "       [ 0,  0,  0,  0,  0,  0,  0,  0,  0, 40,  0,  0]])"
            ]
          },
          "metadata": {},
          "execution_count": 37
        }
      ]
    },
    {
      "cell_type": "code",
      "metadata": {
        "id": "3NlQqkoTd2D_"
      },
      "source": [
        "x=len(np.arange(22,1001,2,dtype=int))"
      ],
      "execution_count": null,
      "outputs": []
    },
    {
      "cell_type": "code",
      "metadata": {
        "colab": {
          "base_uri": "https://localhost:8080/"
        },
        "id": "Wi9kD6KIeAdC",
        "outputId": "b7e4173f-cc54-4799-a43e-75516e2c00f6"
      },
      "source": [
        "x"
      ],
      "execution_count": null,
      "outputs": [
        {
          "output_type": "execute_result",
          "data": {
            "text/plain": [
              "490"
            ]
          },
          "metadata": {},
          "execution_count": 11
        }
      ]
    },
    {
      "cell_type": "code",
      "metadata": {
        "colab": {
          "base_uri": "https://localhost:8080/"
        },
        "id": "WKACtePQgG5a",
        "outputId": "9f84a188-25ab-43e6-c7ea-c3a13302bf89"
      },
      "source": [
        "x=np.linspace(22,40,num=10,dtype=int)\n",
        "print(x)# here x ix a vector here (1 x 10)\n",
        "print(x.shape)\n",
        "print(type(x))"
      ],
      "execution_count": null,
      "outputs": [
        {
          "output_type": "stream",
          "name": "stdout",
          "text": [
            "[22 24 26 28 30 32 34 36 38 40]\n",
            "(10,)\n",
            "<class 'numpy.ndarray'>\n"
          ]
        }
      ]
    },
    {
      "cell_type": "code",
      "metadata": {
        "colab": {
          "base_uri": "https://localhost:8080/"
        },
        "id": "fAUYjDtFPvJH",
        "outputId": "b822fdf4-c25b-4db8-9cf7-78e02cc8ce5a"
      },
      "source": [
        "np.array([[1,2,3,4,5]]).shape"
      ],
      "execution_count": null,
      "outputs": [
        {
          "output_type": "execute_result",
          "data": {
            "text/plain": [
              "(1, 5)"
            ]
          },
          "metadata": {},
          "execution_count": 14
        }
      ]
    },
    {
      "cell_type": "code",
      "metadata": {
        "colab": {
          "base_uri": "https://localhost:8080/"
        },
        "id": "dJdpTpFASL80",
        "outputId": "254a48ea-a8cc-4cc8-a576-11cb2fefce2b"
      },
      "source": [
        "x.reshape(2,5)"
      ],
      "execution_count": null,
      "outputs": [
        {
          "output_type": "execute_result",
          "data": {
            "text/plain": [
              "array([[22, 24, 26, 28, 30],\n",
              "       [32, 34, 36, 38, 40]])"
            ]
          },
          "metadata": {},
          "execution_count": 6
        }
      ]
    },
    {
      "cell_type": "code",
      "metadata": {
        "colab": {
          "base_uri": "https://localhost:8080/"
        },
        "id": "76DR6DrjSskm",
        "outputId": "8d631427-45f3-4e25-99a2-6df2dd4d56dc"
      },
      "source": [
        "x.reshape(5,2)"
      ],
      "execution_count": null,
      "outputs": [
        {
          "output_type": "execute_result",
          "data": {
            "text/plain": [
              "array([[22, 24],\n",
              "       [26, 28],\n",
              "       [30, 32],\n",
              "       [34, 36],\n",
              "       [38, 40]])"
            ]
          },
          "metadata": {},
          "execution_count": 15
        }
      ]
    },
    {
      "cell_type": "code",
      "metadata": {
        "colab": {
          "base_uri": "https://localhost:8080/"
        },
        "id": "xqBIpS9gTjao",
        "outputId": "7f6434e5-c1ea-4a9d-b2d7-aeb0b4494a1c"
      },
      "source": [
        "x=np.linspace(1,1,9,dtype=int)\n",
        "x.reshape(3,3)\n"
      ],
      "execution_count": null,
      "outputs": [
        {
          "output_type": "execute_result",
          "data": {
            "text/plain": [
              "array([[1, 1, 1],\n",
              "       [1, 1, 1],\n",
              "       [1, 1, 1]])"
            ]
          },
          "metadata": {},
          "execution_count": 20
        }
      ]
    },
    {
      "cell_type": "code",
      "metadata": {
        "colab": {
          "base_uri": "https://localhost:8080/"
        },
        "id": "gSs8x3qAT2RV",
        "outputId": "db30fbfb-9088-4566-dd62-114e23b3a5a7"
      },
      "source": [
        "np.random.randn(3,3)"
      ],
      "execution_count": null,
      "outputs": [
        {
          "output_type": "execute_result",
          "data": {
            "text/plain": [
              "array([[ 0.64721687,  0.38496854,  1.01500931],\n",
              "       [-1.50436083, -1.19219843,  1.44256754],\n",
              "       [ 1.80461543, -0.09783691, -0.26584287]])"
            ]
          },
          "metadata": {},
          "execution_count": 2
        }
      ]
    },
    {
      "cell_type": "code",
      "metadata": {
        "colab": {
          "base_uri": "https://localhost:8080/"
        },
        "id": "r84uqd-YVam8",
        "outputId": "84d46909-d1e4-4299-8cec-532d611f75e7"
      },
      "source": [
        "np.random.random((2,5))"
      ],
      "execution_count": null,
      "outputs": [
        {
          "output_type": "execute_result",
          "data": {
            "text/plain": [
              "array([[0.09877544, 0.23949304, 0.69842882, 0.13522456, 0.13187835],\n",
              "       [0.96897568, 0.41072155, 0.47645993, 0.31314725, 0.01646174]])"
            ]
          },
          "metadata": {},
          "execution_count": 3
        }
      ]
    },
    {
      "cell_type": "markdown",
      "metadata": {
        "id": "Bx-m2ze_WA-W"
      },
      "source": [
        "**randint(start,stop,size)**"
      ]
    },
    {
      "cell_type": "code",
      "metadata": {
        "colab": {
          "base_uri": "https://localhost:8080/"
        },
        "id": "k9DnKwWNWMrL",
        "outputId": "857710f9-e6e4-492b-fc66-5122be79acfd"
      },
      "source": [
        "np.random.randint(1,10,23)"
      ],
      "execution_count": null,
      "outputs": [
        {
          "output_type": "execute_result",
          "data": {
            "text/plain": [
              "array([5, 6, 9, 7, 4, 9, 3, 9, 6, 2, 1, 5, 3, 3, 7, 2, 7, 8, 1, 1, 7, 5,\n",
              "       6])"
            ]
          },
          "metadata": {},
          "execution_count": 23
        }
      ]
    },
    {
      "cell_type": "code",
      "metadata": {
        "colab": {
          "base_uri": "https://localhost:8080/"
        },
        "id": "lkSzJALMWRcW",
        "outputId": "f05a04be-bb1e-4b83-ce4d-a4d5dc525828"
      },
      "source": [
        "np.random.randint(1,1000,(5,5))"
      ],
      "execution_count": null,
      "outputs": [
        {
          "output_type": "execute_result",
          "data": {
            "text/plain": [
              "array([[ 25, 252, 178, 440,   7],\n",
              "       [577,  12, 904, 772, 618],\n",
              "       [670, 475, 867, 717, 437],\n",
              "       [138,  91, 883, 338, 704],\n",
              "       [763, 357, 192, 893, 197]])"
            ]
          },
          "metadata": {},
          "execution_count": 25
        }
      ]
    },
    {
      "cell_type": "markdown",
      "metadata": {
        "id": "7nT4hutdWrBb"
      },
      "source": [
        "**normal(start,stop,size)**"
      ]
    },
    {
      "cell_type": "code",
      "metadata": {
        "id": "7JV2TiM_WwkE",
        "colab": {
          "base_uri": "https://localhost:8080/"
        },
        "outputId": "40e03e2f-a493-4827-d9f4-c231aaa4ffc8"
      },
      "source": [
        "# a normal distribution is one where the mean is 0\n",
        "np.random.normal(1,10,(4,4))"
      ],
      "execution_count": null,
      "outputs": [
        {
          "output_type": "execute_result",
          "data": {
            "text/plain": [
              "array([[ 11.63011348,  16.37409106,   3.38839385,  -9.22695368],\n",
              "       [  4.72335972,  -5.42064787,   8.39522665,  17.51491753],\n",
              "       [  2.42431312,  -2.16628134,   3.89620419,  -3.95716098],\n",
              "       [  0.05586544,  -0.11343623,  12.26155553, -10.20366292]])"
            ]
          },
          "metadata": {},
          "execution_count": 26
        }
      ]
    },
    {
      "cell_type": "markdown",
      "metadata": {
        "id": "Yr6iFcEEBgQr"
      },
      "source": [
        "**Day 10 Problems**"
      ]
    },
    {
      "cell_type": "code",
      "metadata": {
        "id": "7TevMlMhpckF"
      },
      "source": [
        "#Problem 1\n",
        "y=np.linspace(1,50,48)"
      ],
      "execution_count": null,
      "outputs": []
    },
    {
      "cell_type": "code",
      "metadata": {
        "colab": {
          "base_uri": "https://localhost:8080/"
        },
        "id": "kRPsRc0HqljD",
        "outputId": "0383728b-b98c-44e3-d67e-4e1f00577cc4"
      },
      "source": [
        "print(type(y))"
      ],
      "execution_count": null,
      "outputs": [
        {
          "output_type": "stream",
          "name": "stdout",
          "text": [
            "<class 'numpy.ndarray'>\n"
          ]
        }
      ]
    },
    {
      "cell_type": "code",
      "metadata": {
        "colab": {
          "base_uri": "https://localhost:8080/"
        },
        "id": "8jXQRg8Fq_m5",
        "outputId": "715cf53b-a520-4f90-9ea0-cc1ec13eb467"
      },
      "source": [
        "y"
      ],
      "execution_count": null,
      "outputs": [
        {
          "output_type": "execute_result",
          "data": {
            "text/plain": [
              "array([ 1.        ,  2.04255319,  3.08510638,  4.12765957,  5.17021277,\n",
              "        6.21276596,  7.25531915,  8.29787234,  9.34042553, 10.38297872,\n",
              "       11.42553191, 12.46808511, 13.5106383 , 14.55319149, 15.59574468,\n",
              "       16.63829787, 17.68085106, 18.72340426, 19.76595745, 20.80851064,\n",
              "       21.85106383, 22.89361702, 23.93617021, 24.9787234 , 26.0212766 ,\n",
              "       27.06382979, 28.10638298, 29.14893617, 30.19148936, 31.23404255,\n",
              "       32.27659574, 33.31914894, 34.36170213, 35.40425532, 36.44680851,\n",
              "       37.4893617 , 38.53191489, 39.57446809, 40.61702128, 41.65957447,\n",
              "       42.70212766, 43.74468085, 44.78723404, 45.82978723, 46.87234043,\n",
              "       47.91489362, 48.95744681, 50.        ])"
            ]
          },
          "metadata": {},
          "execution_count": 5
        }
      ]
    },
    {
      "cell_type": "code",
      "metadata": {
        "colab": {
          "base_uri": "https://localhost:8080/"
        },
        "id": "svZPJi1Lq8RD",
        "outputId": "6340b1d0-7b12-4f81-e9f0-aca43002af7a"
      },
      "source": [
        "y.reshape(6,8)"
      ],
      "execution_count": null,
      "outputs": [
        {
          "output_type": "execute_result",
          "data": {
            "text/plain": [
              "array([[ 1.        ,  2.04255319,  3.08510638,  4.12765957,  5.17021277,\n",
              "         6.21276596,  7.25531915,  8.29787234],\n",
              "       [ 9.34042553, 10.38297872, 11.42553191, 12.46808511, 13.5106383 ,\n",
              "        14.55319149, 15.59574468, 16.63829787],\n",
              "       [17.68085106, 18.72340426, 19.76595745, 20.80851064, 21.85106383,\n",
              "        22.89361702, 23.93617021, 24.9787234 ],\n",
              "       [26.0212766 , 27.06382979, 28.10638298, 29.14893617, 30.19148936,\n",
              "        31.23404255, 32.27659574, 33.31914894],\n",
              "       [34.36170213, 35.40425532, 36.44680851, 37.4893617 , 38.53191489,\n",
              "        39.57446809, 40.61702128, 41.65957447],\n",
              "       [42.70212766, 43.74468085, 44.78723404, 45.82978723, 46.87234043,\n",
              "        47.91489362, 48.95744681, 50.        ]])"
            ]
          },
          "metadata": {},
          "execution_count": 6
        }
      ]
    },
    {
      "cell_type": "code",
      "metadata": {
        "colab": {
          "base_uri": "https://localhost:8080/"
        },
        "id": "GrzwyjATrHaX",
        "outputId": "0259bbab-d09d-4b03-b8aa-fd38ee6ce25a"
      },
      "source": [
        "y.reshape(12,4)"
      ],
      "execution_count": null,
      "outputs": [
        {
          "output_type": "execute_result",
          "data": {
            "text/plain": [
              "array([[ 1.        ,  2.04255319,  3.08510638,  4.12765957],\n",
              "       [ 5.17021277,  6.21276596,  7.25531915,  8.29787234],\n",
              "       [ 9.34042553, 10.38297872, 11.42553191, 12.46808511],\n",
              "       [13.5106383 , 14.55319149, 15.59574468, 16.63829787],\n",
              "       [17.68085106, 18.72340426, 19.76595745, 20.80851064],\n",
              "       [21.85106383, 22.89361702, 23.93617021, 24.9787234 ],\n",
              "       [26.0212766 , 27.06382979, 28.10638298, 29.14893617],\n",
              "       [30.19148936, 31.23404255, 32.27659574, 33.31914894],\n",
              "       [34.36170213, 35.40425532, 36.44680851, 37.4893617 ],\n",
              "       [38.53191489, 39.57446809, 40.61702128, 41.65957447],\n",
              "       [42.70212766, 43.74468085, 44.78723404, 45.82978723],\n",
              "       [46.87234043, 47.91489362, 48.95744681, 50.        ]])"
            ]
          },
          "metadata": {},
          "execution_count": 7
        }
      ]
    },
    {
      "cell_type": "code",
      "metadata": {
        "id": "iJz5HescrMYl",
        "colab": {
          "base_uri": "https://localhost:8080/"
        },
        "outputId": "8ab63294-78ad-453e-958c-1ce9258a28d8"
      },
      "source": [
        "y.reshape(4,12)"
      ],
      "execution_count": null,
      "outputs": [
        {
          "output_type": "execute_result",
          "data": {
            "text/plain": [
              "array([[ 1.        ,  2.04255319,  3.08510638,  4.12765957,  5.17021277,\n",
              "         6.21276596,  7.25531915,  8.29787234,  9.34042553, 10.38297872,\n",
              "        11.42553191, 12.46808511],\n",
              "       [13.5106383 , 14.55319149, 15.59574468, 16.63829787, 17.68085106,\n",
              "        18.72340426, 19.76595745, 20.80851064, 21.85106383, 22.89361702,\n",
              "        23.93617021, 24.9787234 ],\n",
              "       [26.0212766 , 27.06382979, 28.10638298, 29.14893617, 30.19148936,\n",
              "        31.23404255, 32.27659574, 33.31914894, 34.36170213, 35.40425532,\n",
              "        36.44680851, 37.4893617 ],\n",
              "       [38.53191489, 39.57446809, 40.61702128, 41.65957447, 42.70212766,\n",
              "        43.74468085, 44.78723404, 45.82978723, 46.87234043, 47.91489362,\n",
              "        48.95744681, 50.        ]])"
            ]
          },
          "metadata": {},
          "execution_count": 8
        }
      ]
    },
    {
      "cell_type": "code",
      "metadata": {
        "id": "gujQvP-frSim",
        "colab": {
          "base_uri": "https://localhost:8080/"
        },
        "outputId": "2a4b5866-30e4-47c0-c3c1-99d9e6558821"
      },
      "source": [
        "y.reshape(1,48)"
      ],
      "execution_count": null,
      "outputs": [
        {
          "output_type": "execute_result",
          "data": {
            "text/plain": [
              "array([[ 1.        ,  2.04255319,  3.08510638,  4.12765957,  5.17021277,\n",
              "         6.21276596,  7.25531915,  8.29787234,  9.34042553, 10.38297872,\n",
              "        11.42553191, 12.46808511, 13.5106383 , 14.55319149, 15.59574468,\n",
              "        16.63829787, 17.68085106, 18.72340426, 19.76595745, 20.80851064,\n",
              "        21.85106383, 22.89361702, 23.93617021, 24.9787234 , 26.0212766 ,\n",
              "        27.06382979, 28.10638298, 29.14893617, 30.19148936, 31.23404255,\n",
              "        32.27659574, 33.31914894, 34.36170213, 35.40425532, 36.44680851,\n",
              "        37.4893617 , 38.53191489, 39.57446809, 40.61702128, 41.65957447,\n",
              "        42.70212766, 43.74468085, 44.78723404, 45.82978723, 46.87234043,\n",
              "        47.91489362, 48.95744681, 50.        ]])"
            ]
          },
          "metadata": {},
          "execution_count": 9
        }
      ]
    },
    {
      "cell_type": "code",
      "metadata": {
        "colab": {
          "base_uri": "https://localhost:8080/"
        },
        "id": "v67WR4c4B1GW",
        "outputId": "9df5e08c-96c7-4dca-906d-49e85a0b9741"
      },
      "source": [
        "y.reshape(48,1)"
      ],
      "execution_count": null,
      "outputs": [
        {
          "output_type": "execute_result",
          "data": {
            "text/plain": [
              "array([[ 1.        ],\n",
              "       [ 2.04255319],\n",
              "       [ 3.08510638],\n",
              "       [ 4.12765957],\n",
              "       [ 5.17021277],\n",
              "       [ 6.21276596],\n",
              "       [ 7.25531915],\n",
              "       [ 8.29787234],\n",
              "       [ 9.34042553],\n",
              "       [10.38297872],\n",
              "       [11.42553191],\n",
              "       [12.46808511],\n",
              "       [13.5106383 ],\n",
              "       [14.55319149],\n",
              "       [15.59574468],\n",
              "       [16.63829787],\n",
              "       [17.68085106],\n",
              "       [18.72340426],\n",
              "       [19.76595745],\n",
              "       [20.80851064],\n",
              "       [21.85106383],\n",
              "       [22.89361702],\n",
              "       [23.93617021],\n",
              "       [24.9787234 ],\n",
              "       [26.0212766 ],\n",
              "       [27.06382979],\n",
              "       [28.10638298],\n",
              "       [29.14893617],\n",
              "       [30.19148936],\n",
              "       [31.23404255],\n",
              "       [32.27659574],\n",
              "       [33.31914894],\n",
              "       [34.36170213],\n",
              "       [35.40425532],\n",
              "       [36.44680851],\n",
              "       [37.4893617 ],\n",
              "       [38.53191489],\n",
              "       [39.57446809],\n",
              "       [40.61702128],\n",
              "       [41.65957447],\n",
              "       [42.70212766],\n",
              "       [43.74468085],\n",
              "       [44.78723404],\n",
              "       [45.82978723],\n",
              "       [46.87234043],\n",
              "       [47.91489362],\n",
              "       [48.95744681],\n",
              "       [50.        ]])"
            ]
          },
          "metadata": {},
          "execution_count": 10
        }
      ]
    },
    {
      "cell_type": "markdown",
      "metadata": {
        "id": "9mEz2gDYJMRs"
      },
      "source": [
        "**Vstack**"
      ]
    },
    {
      "cell_type": "code",
      "metadata": {
        "id": "kExwAS4QB5k1"
      },
      "source": [
        "#Problem 2\n",
        "mat1=[[1,2,3],\n",
        "      [4,5,6]]"
      ],
      "execution_count": null,
      "outputs": []
    },
    {
      "cell_type": "code",
      "metadata": {
        "id": "ub_YP7l0CzD4"
      },
      "source": [
        "x=np.array(mat1)"
      ],
      "execution_count": null,
      "outputs": []
    },
    {
      "cell_type": "code",
      "metadata": {
        "colab": {
          "base_uri": "https://localhost:8080/"
        },
        "id": "nFprub3iC3Id",
        "outputId": "f972e265-6218-4746-c233-b63dc94d39ae"
      },
      "source": [
        "x"
      ],
      "execution_count": null,
      "outputs": [
        {
          "output_type": "execute_result",
          "data": {
            "text/plain": [
              "array([[1, 2, 3],\n",
              "       [4, 5, 6]])"
            ]
          },
          "metadata": {},
          "execution_count": 13
        }
      ]
    },
    {
      "cell_type": "code",
      "metadata": {
        "id": "1WFK1Ff_C5yb"
      },
      "source": [
        "y=np.array([[7,8,9],[10,11,12]])"
      ],
      "execution_count": null,
      "outputs": []
    },
    {
      "cell_type": "code",
      "metadata": {
        "colab": {
          "base_uri": "https://localhost:8080/"
        },
        "id": "ErT-Ugd5DCQe",
        "outputId": "5630cde7-c4be-469a-ce7e-f5b1ae399674"
      },
      "source": [
        "y"
      ],
      "execution_count": null,
      "outputs": [
        {
          "output_type": "execute_result",
          "data": {
            "text/plain": [
              "array([[ 7,  8,  9],\n",
              "       [10, 11, 12]])"
            ]
          },
          "metadata": {},
          "execution_count": 15
        }
      ]
    },
    {
      "cell_type": "code",
      "metadata": {
        "id": "zstsirp_Dj8D"
      },
      "source": [
        "z=np.vstack((x,y))"
      ],
      "execution_count": null,
      "outputs": []
    },
    {
      "cell_type": "code",
      "metadata": {
        "colab": {
          "base_uri": "https://localhost:8080/"
        },
        "id": "oXw2SS5oDxuy",
        "outputId": "2e3c5d77-2d1c-469e-e8e3-6d3c13ab0df3"
      },
      "source": [
        "z"
      ],
      "execution_count": null,
      "outputs": [
        {
          "output_type": "execute_result",
          "data": {
            "text/plain": [
              "array([[ 1,  2,  3],\n",
              "       [ 4,  5,  6],\n",
              "       [ 7,  8,  9],\n",
              "       [10, 11, 12]])"
            ]
          },
          "metadata": {},
          "execution_count": 22
        }
      ]
    },
    {
      "cell_type": "markdown",
      "metadata": {
        "id": "xVa2TuGGJO6O"
      },
      "source": [
        "**Hstack**"
      ]
    },
    {
      "cell_type": "code",
      "metadata": {
        "id": "uuxaTwdBJQhQ"
      },
      "source": [
        "n1=np.array([[1,2,3],\n",
        "            [4,5,6],\n",
        "            [7,8,9]])"
      ],
      "execution_count": null,
      "outputs": []
    },
    {
      "cell_type": "code",
      "metadata": {
        "id": "qhixXB3xJd3T"
      },
      "source": [
        "n2=np.array([[44],\n",
        "             [55],\n",
        "             [66]])"
      ],
      "execution_count": null,
      "outputs": []
    },
    {
      "cell_type": "code",
      "metadata": {
        "id": "HvUq-dxHJq8q"
      },
      "source": [
        "n3=np.hstack((n1,n2))"
      ],
      "execution_count": null,
      "outputs": []
    },
    {
      "cell_type": "code",
      "metadata": {
        "colab": {
          "base_uri": "https://localhost:8080/"
        },
        "id": "5z0IpszUJv6c",
        "outputId": "c16195de-28bb-4cb7-c13d-1c9b4b2afb88"
      },
      "source": [
        "n3"
      ],
      "execution_count": null,
      "outputs": [
        {
          "output_type": "execute_result",
          "data": {
            "text/plain": [
              "array([[ 1,  2,  3, 44],\n",
              "       [ 4,  5,  6, 55],\n",
              "       [ 7,  8,  9, 66]])"
            ]
          },
          "metadata": {},
          "execution_count": 27
        }
      ]
    },
    {
      "cell_type": "markdown",
      "metadata": {
        "id": "DUuFs46Hd5tG"
      },
      "source": [
        "***Practise Questions***"
      ]
    },
    {
      "cell_type": "code",
      "metadata": {
        "id": "QrhndnvHmmYi"
      },
      "source": [
        "x=np.random.randint(1,50,(5,5))"
      ],
      "execution_count": null,
      "outputs": []
    },
    {
      "cell_type": "code",
      "metadata": {
        "colab": {
          "base_uri": "https://localhost:8080/"
        },
        "id": "t91nNj7JLWw_",
        "outputId": "0d0e50f9-7089-4089-f313-5646f08cbca8"
      },
      "source": [
        "x"
      ],
      "execution_count": null,
      "outputs": [
        {
          "output_type": "execute_result",
          "data": {
            "text/plain": [
              "array([[15,  7, 33, 19, 47],\n",
              "       [47, 25, 37,  5, 49],\n",
              "       [16, 48, 36,  9, 22],\n",
              "       [25, 25, 13, 10, 20],\n",
              "       [37,  4, 49, 48, 44]])"
            ]
          },
          "metadata": {},
          "execution_count": 5
        }
      ]
    },
    {
      "cell_type": "code",
      "metadata": {
        "colab": {
          "base_uri": "https://localhost:8080/"
        },
        "id": "kM7qT2dTLaL3",
        "outputId": "388da307-51e4-4b81-874f-11f57b97f424"
      },
      "source": [
        "x[1:3,1:4]"
      ],
      "execution_count": null,
      "outputs": [
        {
          "output_type": "execute_result",
          "data": {
            "text/plain": [
              "array([[25, 37,  5],\n",
              "       [48, 36,  9]])"
            ]
          },
          "metadata": {},
          "execution_count": 20
        }
      ]
    },
    {
      "cell_type": "code",
      "metadata": {
        "id": "kvfvUf7GQJL4"
      },
      "source": [
        "y=np.random.randint(1,60,(5,5))"
      ],
      "execution_count": null,
      "outputs": []
    },
    {
      "cell_type": "code",
      "metadata": {
        "colab": {
          "base_uri": "https://localhost:8080/"
        },
        "id": "CGtC7TBXQPlZ",
        "outputId": "b541367a-27c9-4026-c652-0f8c83c27c29"
      },
      "source": [
        "y"
      ],
      "execution_count": null,
      "outputs": [
        {
          "output_type": "execute_result",
          "data": {
            "text/plain": [
              "array([[15, 39, 21, 27, 45],\n",
              "       [12, 43, 30,  1, 50],\n",
              "       [42, 26, 43, 40, 18],\n",
              "       [18, 31, 27, 44, 27],\n",
              "       [32, 10, 51, 34, 17]])"
            ]
          },
          "metadata": {},
          "execution_count": 22
        }
      ]
    },
    {
      "cell_type": "code",
      "metadata": {
        "id": "7rKoMWIBQSLy"
      },
      "source": [
        "y[1:4,2:5]=np.zeros((3,3),dtype=int)"
      ],
      "execution_count": null,
      "outputs": []
    },
    {
      "cell_type": "code",
      "metadata": {
        "colab": {
          "base_uri": "https://localhost:8080/"
        },
        "id": "ilKnxYNrRm9k",
        "outputId": "14d8694b-0168-451a-dd1f-a9453dbd7b9d"
      },
      "source": [
        "y"
      ],
      "execution_count": null,
      "outputs": [
        {
          "output_type": "execute_result",
          "data": {
            "text/plain": [
              "array([[15, 39, 21, 27, 45],\n",
              "       [12, 43,  0,  0,  0],\n",
              "       [42, 26,  0,  0,  0],\n",
              "       [18, 31,  0,  0,  0],\n",
              "       [32, 10, 51, 34, 17]])"
            ]
          },
          "metadata": {},
          "execution_count": 32
        }
      ]
    },
    {
      "cell_type": "markdown",
      "metadata": {
        "id": "jLBnKBSdeDFn"
      },
      "source": [
        "**Append()**"
      ]
    },
    {
      "cell_type": "code",
      "metadata": {
        "id": "OJtv6DXDdxwd"
      },
      "source": [
        "z=np.random.randint(1,100,(5,5))"
      ],
      "execution_count": null,
      "outputs": []
    },
    {
      "cell_type": "code",
      "metadata": {
        "colab": {
          "base_uri": "https://localhost:8080/"
        },
        "id": "T295-tyReTeW",
        "outputId": "9ff715ff-df17-4d35-b6f4-16d56dca3ee9"
      },
      "source": [
        "z"
      ],
      "execution_count": null,
      "outputs": [
        {
          "output_type": "execute_result",
          "data": {
            "text/plain": [
              "array([[41, 55, 45, 44,  8],\n",
              "       [ 9, 22, 15, 73, 45],\n",
              "       [44, 24,  9, 32, 72],\n",
              "       [37, 54,  5,  4, 49],\n",
              "       [33, 99, 98, 43, 38]])"
            ]
          },
          "metadata": {},
          "execution_count": 3
        }
      ]
    },
    {
      "cell_type": "code",
      "metadata": {
        "colab": {
          "base_uri": "https://localhost:8080/"
        },
        "id": "qE8wQhRTeWWA",
        "outputId": "3ec60a36-ccc8-4ecf-b28b-5e2b40b31bba"
      },
      "source": [
        "np.append(z,[[9,46,73,50,39]])"
      ],
      "execution_count": null,
      "outputs": [
        {
          "output_type": "execute_result",
          "data": {
            "text/plain": [
              "array([41, 55, 45, 44,  8,  9, 22, 15, 73, 45, 44, 24,  9, 32, 72, 37, 54,\n",
              "        5,  4, 49, 33, 99, 98, 43, 38,  9, 46, 73, 50, 39])"
            ]
          },
          "metadata": {},
          "execution_count": 4
        }
      ]
    },
    {
      "cell_type": "markdown",
      "metadata": {
        "id": "JScBnT1Ee__4"
      },
      "source": [
        "*horizontal append*"
      ]
    },
    {
      "cell_type": "code",
      "metadata": {
        "colab": {
          "base_uri": "https://localhost:8080/"
        },
        "id": "CfdizSHXeq1G",
        "outputId": "c7e735ba-4ca9-4065-bbb6-1ca917398d4e"
      },
      "source": [
        "np.append(z,[[9,46,73,50,39]],axis=0)"
      ],
      "execution_count": null,
      "outputs": [
        {
          "output_type": "execute_result",
          "data": {
            "text/plain": [
              "array([[41, 55, 45, 44,  8],\n",
              "       [ 9, 22, 15, 73, 45],\n",
              "       [44, 24,  9, 32, 72],\n",
              "       [37, 54,  5,  4, 49],\n",
              "       [33, 99, 98, 43, 38],\n",
              "       [ 9, 46, 73, 50, 39]])"
            ]
          },
          "metadata": {},
          "execution_count": 5
        }
      ]
    },
    {
      "cell_type": "markdown",
      "metadata": {
        "id": "7Zfoh0WDfFWx"
      },
      "source": [
        "*vertical append*"
      ]
    },
    {
      "cell_type": "code",
      "metadata": {
        "colab": {
          "base_uri": "https://localhost:8080/"
        },
        "id": "EJrZ5KhrexMI",
        "outputId": "1dc48510-e8d6-43a8-f179-7f98d234b1a3"
      },
      "source": [
        "np.append(z,[[9],\n",
        "             [46],\n",
        "             [73],\n",
        "             [50],\n",
        "             [40]],axis=1)"
      ],
      "execution_count": null,
      "outputs": [
        {
          "output_type": "execute_result",
          "data": {
            "text/plain": [
              "array([[41, 55, 45, 44,  8,  9],\n",
              "       [ 9, 22, 15, 73, 45, 46],\n",
              "       [44, 24,  9, 32, 72, 73],\n",
              "       [37, 54,  5,  4, 49, 50],\n",
              "       [33, 99, 98, 43, 38, 40]])"
            ]
          },
          "metadata": {},
          "execution_count": 6
        }
      ]
    },
    {
      "cell_type": "code",
      "metadata": {
        "id": "iX6MFdJ98xtN"
      },
      "source": [
        "b=np.random.randint(2,80,(4,4))"
      ],
      "execution_count": null,
      "outputs": []
    },
    {
      "cell_type": "code",
      "metadata": {
        "colab": {
          "base_uri": "https://localhost:8080/"
        },
        "id": "QKF2k83b9Ddy",
        "outputId": "5963e499-2fa1-4fff-e9ea-25df8a22ca0c"
      },
      "source": [
        "b"
      ],
      "execution_count": null,
      "outputs": [
        {
          "output_type": "execute_result",
          "data": {
            "text/plain": [
              "array([[ 5, 42, 34, 54],\n",
              "       [44, 72, 29, 42],\n",
              "       [ 8, 69, 18, 22],\n",
              "       [17, 21, 37, 47]])"
            ]
          },
          "metadata": {},
          "execution_count": 4
        }
      ]
    },
    {
      "cell_type": "code",
      "metadata": {
        "id": "5qA8v_LT9MLI"
      },
      "source": [
        "mat=np.insert(b,2,0,axis=0)"
      ],
      "execution_count": null,
      "outputs": []
    },
    {
      "cell_type": "code",
      "metadata": {
        "colab": {
          "base_uri": "https://localhost:8080/"
        },
        "id": "rmeaFzOx-kUM",
        "outputId": "493aee95-8651-4dd9-c663-0abf4781a231"
      },
      "source": [
        "mat"
      ],
      "execution_count": null,
      "outputs": [
        {
          "output_type": "execute_result",
          "data": {
            "text/plain": [
              "array([[ 5, 42, 34, 54],\n",
              "       [44, 72, 29, 42],\n",
              "       [ 0,  0,  0,  0],\n",
              "       [ 8, 69, 18, 22],\n",
              "       [17, 21, 37, 47]])"
            ]
          },
          "metadata": {},
          "execution_count": 8
        }
      ]
    },
    {
      "cell_type": "code",
      "metadata": {
        "colab": {
          "base_uri": "https://localhost:8080/"
        },
        "id": "wgOz2h2X_usB",
        "outputId": "e7594b05-4ce4-4fdf-e3d9-a6a11d022f55"
      },
      "source": [
        "np.unique(mat,axis=0)\n",
        "#without mentioning axis it shows all unique values in the form of vector"
      ],
      "execution_count": null,
      "outputs": [
        {
          "output_type": "execute_result",
          "data": {
            "text/plain": [
              "array([[ 0,  0,  0,  0],\n",
              "       [ 5, 42, 34, 54],\n",
              "       [ 8, 69, 18, 22],\n",
              "       [17, 21, 37, 47],\n",
              "       [44, 72, 29, 42]])"
            ]
          },
          "metadata": {},
          "execution_count": 10
        }
      ]
    },
    {
      "cell_type": "markdown",
      "metadata": {
        "id": "qiHiyNgOGurB"
      },
      "source": [
        "***BroadCasting***"
      ]
    },
    {
      "cell_type": "code",
      "metadata": {
        "id": "EuaKLr63AYlc"
      },
      "source": [
        "mat1=np.array([[1,2,3],\n",
        "               [4,5,6]])"
      ],
      "execution_count": null,
      "outputs": []
    },
    {
      "cell_type": "code",
      "metadata": {
        "id": "lgXcpnyPHwRq"
      },
      "source": [
        "mat2=np.array([[3,4,5],\n",
        "               [0,2,1]])"
      ],
      "execution_count": null,
      "outputs": []
    },
    {
      "cell_type": "code",
      "metadata": {
        "colab": {
          "base_uri": "https://localhost:8080/"
        },
        "id": "8c3ooPNWH6yA",
        "outputId": "1c870551-4acb-48f9-94e4-42356d6b09df"
      },
      "source": [
        "np.add(mat1,[1,2,3])\n",
        "#here one row is used 2 times"
      ],
      "execution_count": null,
      "outputs": [
        {
          "output_type": "execute_result",
          "data": {
            "text/plain": [
              "array([[2, 4, 6],\n",
              "       [5, 7, 9]])"
            ]
          },
          "metadata": {},
          "execution_count": 13
        }
      ]
    },
    {
      "cell_type": "code",
      "metadata": {
        "colab": {
          "base_uri": "https://localhost:8080/"
        },
        "id": "bqlibfNAIbKa",
        "outputId": "c089ec8b-c726-4338-96b3-e2e4d13d5a75"
      },
      "source": [
        "np.add(mat1,[[1],\n",
        "             [1]])"
      ],
      "execution_count": null,
      "outputs": [
        {
          "output_type": "execute_result",
          "data": {
            "text/plain": [
              "array([[2, 3, 4],\n",
              "       [5, 6, 7]])"
            ]
          },
          "metadata": {},
          "execution_count": 14
        }
      ]
    },
    {
      "cell_type": "code",
      "metadata": {
        "colab": {
          "base_uri": "https://localhost:8080/"
        },
        "id": "mj78GFatI29P",
        "outputId": "5230dc9f-27bf-4ea5-afca-dccc21dfa374"
      },
      "source": [
        "mat1+mat2"
      ],
      "execution_count": null,
      "outputs": [
        {
          "output_type": "execute_result",
          "data": {
            "text/plain": [
              "array([[4, 6, 8],\n",
              "       [4, 7, 7]])"
            ]
          },
          "metadata": {},
          "execution_count": 15
        }
      ]
    },
    {
      "cell_type": "markdown",
      "metadata": {
        "id": "3IXsGezkJyoI"
      },
      "source": [
        "***Assignment***"
      ]
    },
    {
      "cell_type": "code",
      "metadata": {
        "id": "ty7qPr77J1Tq"
      },
      "source": [
        ""
      ],
      "execution_count": null,
      "outputs": []
    }
  ]
}